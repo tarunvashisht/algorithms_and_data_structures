{
 "cells": [
  {
   "cell_type": "markdown",
   "metadata": {},
   "source": [
    "# Practice Interview\n",
    "\n",
    "## Objective\n",
    "\n",
    "_*The partner assignment aims to provide participants with the opportunity to practice coding in an interview context. You will analyze your partner's Assignment 1. Moreover, code reviews are common practice in a software development team. This assignment should give you a taste of the code review process.*_\n",
    "\n",
    "## Group Size\n",
    "\n",
    "Each group should have 2 people. You will be assigned a partner\n",
    "\n",
    "## Part 1:\n",
    "\n",
    "You and your partner must share each other's Assignment 1 submission."
   ]
  },
  {
   "cell_type": "markdown",
   "metadata": {},
   "source": [
    "\n",
    "## Part 2:\n",
    "\n",
    "Create a Jupyter Notebook, create 6 of the following headings, and complete the following for your partner's assignment 1:\n",
    "\n",
    "-   Paraphrase the problem in your own words.\n"
   ]
  },
  {
   "cell_type": "code",
   "execution_count": null,
   "metadata": {},
   "outputs": [],
   "source": [
    "# Your answer here\n",
    "\n",
    "# User has a list of n integers that are supposed to be within the range from 0 to n.\n",
    "#  Some numbers in this range may be missing from the list, \n",
    "#  and some numbers may repeat as well\n",
    "#  User's task is to identify and return the missing numbers from this range. \n",
    "#  If no numbers are missing, it should return -1"
   ]
  },
  {
   "cell_type": "markdown",
   "metadata": {},
   "source": [
    "\n",
    "-   Create 1 new example that demonstrates you understand the problem. Trace/walkthrough 1 example that your partner made and explain it.\n"
   ]
  },
  {
   "cell_type": "code",
   "execution_count": null,
   "metadata": {},
   "outputs": [],
   "source": [
    "# Your answer here\n",
    "#my example: \n",
    "# input[1,5,7,3]--> output [2,4]\n",
    "\n",
    "\n",
    "# test_list3 = [8, 2, 5, 7, 0, 1, 10]\n",
    "# output = [3,4,6,9]\n",
    "\n",
    "# it is a list of random numbers with maximum value of 10. we intend to find out the missing numbers from this list.\n",
    "# As per my partner's solution, he first find out the maximum number and then calculated the sum of whole range starting from 0.\n",
    "# then he compared if the full range sum is equal to provided number list. If yes, then there is no number missing. If no then solution uses a for loop \n",
    "# to find out the missing value.\n"
   ]
  },
  {
   "cell_type": "markdown",
   "metadata": {},
   "source": [
    "\n",
    "-   Copy the solution your partner wrote. \n"
   ]
  },
  {
   "cell_type": "code",
   "execution_count": 2,
   "metadata": {},
   "outputs": [],
   "source": [
    "# Your answer here\n",
    "def missing_num(nums: list[int]) -> int:\n",
    "  if not nums:\n",
    "    return None\n",
    "\n",
    "  n = max(nums)\n",
    "  size = len(nums)\n",
    "  expected_sum = n * (n + 1) // 2  # Calculate sum of [0, n]\n",
    "  actual_sum = sum(nums)\n",
    "\n",
    "  if expected_sum == actual_sum and size==n+1:\n",
    "    return -1\n",
    "\n",
    "  # Count occurrences of each number\n",
    "  seen = set(nums)\n",
    "  missing_numbers = []\n",
    "  for i in range(n + 1):\n",
    "    if i not in seen:\n",
    "      missing_numbers.append(i)\n",
    "\n",
    "  return missing_numbers"
   ]
  },
  {
   "cell_type": "markdown",
   "metadata": {},
   "source": [
    "\n",
    "-   Explain why their solution works in your own words.\n"
   ]
  },
  {
   "cell_type": "code",
   "execution_count": null,
   "metadata": {},
   "outputs": [],
   "source": [
    "# Your answer here\n",
    "# Solution works as it uses the sum of the given numbers/range and total sum of the full set to determine if there is \n",
    "# no missing value. If no missing value, then it returns -1. If there are some missing values, then it uses a for \n",
    "# loop to the range to the max of the set and checks if number is present or not. \n"
   ]
  },
  {
   "cell_type": "markdown",
   "metadata": {},
   "source": [
    "\n",
    "-   Explain the problem’s time and space complexity in your own words.\n"
   ]
  },
  {
   "cell_type": "code",
   "execution_count": null,
   "metadata": {},
   "outputs": [],
   "source": [
    "\n",
    "# since here for loop has been used then time and space complexity is O(1)"
   ]
  },
  {
   "cell_type": "markdown",
   "metadata": {},
   "source": [
    "\n",
    "-   Critique your partner's solution, including explanation, and if there is anything that should be adjusted.\n"
   ]
  },
  {
   "cell_type": "code",
   "execution_count": 15,
   "metadata": {},
   "outputs": [],
   "source": [
    "# Your answer here\n",
    "# Solution is missing one requirement of having duplicate in number set. If there are duplicate values and count of \n",
    "# list is same as max+1 then solution fails.\n",
    "# Eg. below values when passed to solution will give output -1, which is incorrect \n",
    "# test_list3 = [3, 1, 1, 1]\n",
    "# instead of using FOR loop there would have been a better solution of using SET in python. \n",
    "# it would have been faster and with lesser piece of code to achieve the same functionality. Something like below:\n",
    "# missing_numbers = sorted(list(full_set - num_set))"
   ]
  },
  {
   "cell_type": "code",
   "execution_count": 16,
   "metadata": {},
   "outputs": [
    {
     "name": "stdout",
     "output_type": "stream",
     "text": [
      "Custom Test 3:  -1\n"
     ]
    }
   ],
   "source": [
    "\n",
    "test_list3 = [3, 1, 1, 1]\n",
    "print(\"Custom Test 3: \", missing_num(test_list3))"
   ]
  },
  {
   "cell_type": "markdown",
   "metadata": {},
   "source": [
    "\n",
    "## Part 3:\n",
    "\n",
    "Please write a 200 word reflection documenting your process from assignment 1, and your presentation and review experience with your partner at the bottom of the Jupyter Notebook under a new heading \"Reflection.\" Again, export this Notebook as pdf.\n"
   ]
  },
  {
   "cell_type": "markdown",
   "metadata": {},
   "source": [
    "### Reflection"
   ]
  },
  {
   "cell_type": "code",
   "execution_count": 18,
   "metadata": {},
   "outputs": [],
   "source": [
    "# Your answer here\n",
    "# The problem statement for my assignment-1 was clear and concise. it helped me to know the basics of requirement \n",
    "# reading and proof reading. \n",
    "# Solution based on the requirements. I learnt that we have to be vigilant when working on multi faceted requirements\n",
    "# with my problem statement, Thorough with Binomial trees.\n",
    "# It was a good experience of reading my partner's solution and learnt that we can find the sum of a range of numbers \n",
    "# by using a formulae."
   ]
  },
  {
   "cell_type": "markdown",
   "metadata": {},
   "source": [
    "\n",
    "## Evaluation Criteria\n",
    "\n",
    "We are looking for the similar points as Assignment 1\n",
    "\n",
    "-   Problem is accurately stated\n",
    "\n",
    "-   New example is correct and easily understandable\n",
    "\n",
    "-   Correctness, time, and space complexity of the coding solution\n",
    "\n",
    "-   Clarity in explaining why the solution works, its time and space complexity\n",
    "\n",
    "-   Quality of critique of your partner's assignment, if necessary\n"
   ]
  },
  {
   "cell_type": "markdown",
   "metadata": {},
   "source": [
    "## Submission Information\n",
    "\n",
    "🚨 **Please review our [Assignment Submission Guide](https://github.com/UofT-DSI/onboarding/blob/main/onboarding_documents/submissions.md)** 🚨 for detailed instructions on how to format, branch, and submit your work. Following these guidelines is crucial for your submissions to be evaluated correctly.\n",
    "\n",
    "### Submission Parameters:\n",
    "* Submission Due Date: `HH:MM AM/PM - DD/MM/YYYY`\n",
    "* The branch name for your repo should be: `assignment-2`\n",
    "* What to submit for this assignment:\n",
    "    * This Jupyter Notebook (assignment_2.ipynb) should be populated and should be the only change in your pull request.\n",
    "* What the pull request link should look like for this assignment: `https://github.com/<your_github_username>/algorithms_and_data_structures/pull/<pr_id>`\n",
    "    * Open a private window in your browser. Copy and paste the link to your pull request into the address bar. Make sure you can see your pull request properly. This helps the technical facilitator and learning support staff review your submission easily.\n",
    "\n",
    "Checklist:\n",
    "- [ ] Created a branch with the correct naming convention.\n",
    "- [ ] Ensured that the repository is public.\n",
    "- [ ] Reviewed the PR description guidelines and adhered to them.\n",
    "- [ ] Verify that the link is accessible in a private browser window.\n",
    "\n",
    "If you encounter any difficulties or have questions, please don't hesitate to reach out to our team via our Slack at `#cohort-3-help`. Our Technical Facilitators and Learning Support staff are here to help you navigate any challenges.\n"
   ]
  }
 ],
 "metadata": {
  "kernelspec": {
   "display_name": "dsi_participant",
   "language": "python",
   "name": "python3"
  },
  "language_info": {
   "codemirror_mode": {
    "name": "ipython",
    "version": 3
   },
   "file_extension": ".py",
   "mimetype": "text/x-python",
   "name": "python",
   "nbconvert_exporter": "python",
   "pygments_lexer": "ipython3",
   "version": "3.9.18"
  }
 },
 "nbformat": 4,
 "nbformat_minor": 2
}
